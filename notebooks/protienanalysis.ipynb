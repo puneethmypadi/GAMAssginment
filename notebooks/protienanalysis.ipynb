{
 "cells": [
  {
   "cell_type": "markdown",
   "metadata": {
    "collapsed": true,
    "pycharm": {
     "name": "#%% md\n"
    }
   },
   "source": [
    "## GAM Assignment\n",
    "\n",
    "### Protein interaction analysis\n"
   ]
  },
  {
   "cell_type": "markdown",
   "metadata": {
    "pycharm": {
     "name": "#%% md\n"
    }
   },
   "source": [
    "*About Dataset:* _PPT-Ohmnet_tissues-combined.edgelist_ is a collection of physical protein-proteininteraction networks for alarge number of human tissues. Nodes represent humanproteins and edges representtissue-specific physical interactions between proteins."
   ]
  },
  {
   "cell_type": "code",
   "execution_count": 75,
   "metadata": {
    "pycharm": {
     "name": "#%%\n"
    }
   },
   "outputs": [],
   "source": [
    "#import statements\n",
    "import pandas as pd\n",
    "import networkx as nx\n",
    "import re\n",
    "import numpy as np;\n",
    "from IPython.core.display import display\n",
    "from matplotlib import pyplot as pplt"
   ]
  },
  {
   "cell_type": "markdown",
   "metadata": {
    "pycharm": {
     "name": "#%% md\n"
    }
   },
   "source": [
    "#### Q1\n",
    "\n",
    "\n",
    "Create the graph"
   ]
  },
  {
   "cell_type": "code",
   "execution_count": 76,
   "metadata": {
    "pycharm": {
     "name": "#%%\n"
    }
   },
   "outputs": [],
   "source": [
    "graph = nx.Graph()"
   ]
  },
  {
   "cell_type": "markdown",
   "metadata": {
    "pycharm": {
     "name": "#%% md\n"
    }
   },
   "source": [
    "Load the data into the graph"
   ]
  },
  {
   "cell_type": "code",
   "execution_count": 77,
   "metadata": {
    "pycharm": {
     "name": "#%%\n"
    }
   },
   "outputs": [],
   "source": [
    "file = open('../data/PPT-Ohmnet_tissues-combined.edgelist')\n",
    "\n",
    "file.readline()\n",
    "for line in file.readlines():\n",
    "    vals = re.split(r'\\t', line)\n",
    "    graph.add_edge(int(vals[0]), int(vals[1]))"
   ]
  },
  {
   "cell_type": "markdown",
   "metadata": {
    "pycharm": {
     "name": "#%% md\n"
    }
   },
   "source": [
    "Structure of the graph"
   ]
  },
  {
   "cell_type": "code",
   "execution_count": 78,
   "metadata": {
    "pycharm": {
     "name": "#%%\n"
    }
   },
   "outputs": [
    {
     "name": "stdout",
     "output_type": "stream",
     "text": [
      "Graph with 4510 nodes and 70338 edges\n"
     ]
    }
   ],
   "source": [
    "print(graph)"
   ]
  },
  {
   "cell_type": "markdown",
   "metadata": {
    "pycharm": {
     "name": "#%% md\n"
    }
   },
   "source": [
    "Get the largest connected component"
   ]
  },
  {
   "cell_type": "code",
   "execution_count": 79,
   "metadata": {
    "pycharm": {
     "name": "#%%\n"
    }
   },
   "outputs": [
    {
     "name": "stdout",
     "output_type": "stream",
     "text": [
      "Graph with 4488 nodes and 70316 edges\n"
     ]
    }
   ],
   "source": [
    "largest_connected_component = graph.subgraph(max(nx.connected_components(graph), key=len)).copy()\n",
    "print(largest_connected_component)"
   ]
  },
  {
   "cell_type": "markdown",
   "metadata": {
    "pycharm": {
     "name": "#%% md\n"
    }
   },
   "source": [
    "Calculate the degrees of nodes in largest connected component"
   ]
  },
  {
   "cell_type": "code",
   "execution_count": 80,
   "metadata": {
    "pycharm": {
     "name": "#%%\n"
    }
   },
   "outputs": [],
   "source": [
    "degrees = [degree for (node, degree) in largest_connected_component.degree()]\n",
    "degrees.sort()\n",
    "maximum  = degrees[len(degrees)-1]"
   ]
  },
  {
   "cell_type": "markdown",
   "metadata": {
    "pycharm": {
     "name": "#%% md\n"
    }
   },
   "source": [
    "A) 1. Calculate the degree distribution of the largest connected component and plot it."
   ]
  },
  {
   "cell_type": "code",
   "execution_count": 81,
   "metadata": {
    "pycharm": {
     "name": "#%%\n"
    }
   },
   "outputs": [
    {
     "data": {
      "text/plain": "<Figure size 640x480 with 1 Axes>",
      "image/png": "[encoded data removed]"
     },
     "metadata": {},
     "output_type": "display_data"
    }
   ],
   "source": [
    "degreeDistribution = np.zeros(maximum+1)\n",
    "for degree in degrees:\n",
    "    degreeDistribution[degree] = degreeDistribution[degree]+1\n",
    "pplt.plot(degreeDistribution)\n",
    "pplt.xlabel('Degree')\n",
    "pplt.ylabel('Number of nodes')\n",
    "pplt.show()"
   ]
  },
  {
   "cell_type": "markdown",
   "metadata": {
    "pycharm": {
     "name": "#%% md\n"
    }
   },
   "source": [
    "2. Calculate the 5 most connected nodes"
   ]
  },
  {
   "cell_type": "code",
   "execution_count": 82,
   "metadata": {
    "pycharm": {
     "name": "#%%\n"
    }
   },
   "outputs": [
    {
     "data": {
      "text/plain": "      nodes  degree\n3675   4914     787\n138     351     682\n2898   1994     623\n84     7157     530\n29     2885     493",
      "text/html": "<div>\n<style scoped>\n    .dataframe tbody tr th:only-of-type {\n        vertical-align: middle;\n    }\n\n    .dataframe tbody tr th {\n        vertical-align: top;\n    }\n\n    .dataframe thead th {\n        text-align: right;\n    }\n</style>\n<table border=\"1\" class=\"dataframe\">\n  <thead>\n    <tr style=\"text-align: right;\">\n      <th></th>\n      <th>nodes</th>\n      <th>degree</th>\n    </tr>\n  </thead>\n  <tbody>\n    <tr>\n      <th>3675</th>\n      <td>4914</td>\n      <td>787</td>\n    </tr>\n    <tr>\n      <th>138</th>\n      <td>351</td>\n      <td>682</td>\n    </tr>\n    <tr>\n      <th>2898</th>\n      <td>1994</td>\n      <td>623</td>\n    </tr>\n    <tr>\n      <th>84</th>\n      <td>7157</td>\n      <td>530</td>\n    </tr>\n    <tr>\n      <th>29</th>\n      <td>2885</td>\n      <td>493</td>\n    </tr>\n  </tbody>\n</table>\n</div>"
     },
     "execution_count": 82,
     "metadata": {},
     "output_type": "execute_result"
    }
   ],
   "source": [
    "nodes = []\n",
    "deg = []\n",
    "\n",
    "a= pd.DataFrame()\n",
    "for  node,degree in largest_connected_component.degree():\n",
    "    nodes.append(node)\n",
    "    deg.append(degree)\n",
    "\n",
    "nodeDegreeDf = pd.DataFrame({'nodes': nodes, 'degree': deg})\n",
    "nodeDegreeDf.nlargest(5, 'degree')"
   ]
  },
  {
   "cell_type": "markdown",
   "metadata": {
    "pycharm": {
     "name": "#%% md\n"
    }
   },
   "source": [
    "B) 1. Calculate the pagerank(Proteinrank of the nodes)"
   ]
  },
  {
   "cell_type": "code",
   "execution_count": 83,
   "metadata": {
    "pycharm": {
     "name": "#%%\n"
    }
   },
   "outputs": [
    {
     "data": {
      "text/plain": "      Nodes      Rank\n138     351  0.005462\n3687   4914  0.004784\n2908   1994  0.004692\n29     2885  0.003226\n84     7157  0.003167\n1921   7514  0.002958\n142    3320  0.002908\n352    1956  0.002872\n4186  10482  0.002748\n100    8452  0.002506",
      "text/html": "<div>\n<style scoped>\n    .dataframe tbody tr th:only-of-type {\n        vertical-align: middle;\n    }\n\n    .dataframe tbody tr th {\n        vertical-align: top;\n    }\n\n    .dataframe thead th {\n        text-align: right;\n    }\n</style>\n<table border=\"1\" class=\"dataframe\">\n  <thead>\n    <tr style=\"text-align: right;\">\n      <th></th>\n      <th>Nodes</th>\n      <th>Rank</th>\n    </tr>\n  </thead>\n  <tbody>\n    <tr>\n      <th>138</th>\n      <td>351</td>\n      <td>0.005462</td>\n    </tr>\n    <tr>\n      <th>3687</th>\n      <td>4914</td>\n      <td>0.004784</td>\n    </tr>\n    <tr>\n      <th>2908</th>\n      <td>1994</td>\n      <td>0.004692</td>\n    </tr>\n    <tr>\n      <th>29</th>\n      <td>2885</td>\n      <td>0.003226</td>\n    </tr>\n    <tr>\n      <th>84</th>\n      <td>7157</td>\n      <td>0.003167</td>\n    </tr>\n    <tr>\n      <th>1921</th>\n      <td>7514</td>\n      <td>0.002958</td>\n    </tr>\n    <tr>\n      <th>142</th>\n      <td>3320</td>\n      <td>0.002908</td>\n    </tr>\n    <tr>\n      <th>352</th>\n      <td>1956</td>\n      <td>0.002872</td>\n    </tr>\n    <tr>\n      <th>4186</th>\n      <td>10482</td>\n      <td>0.002748</td>\n    </tr>\n    <tr>\n      <th>100</th>\n      <td>8452</td>\n      <td>0.002506</td>\n    </tr>\n  </tbody>\n</table>\n</div>"
     },
     "metadata": {},
     "output_type": "display_data"
    }
   ],
   "source": [
    "page_ranks = nx.pagerank(graph)\n",
    "page_ranks_df = pd.DataFrame({'Nodes': page_ranks.keys(), 'Rank': page_ranks.values()})\n",
    "top_nodes = page_ranks_df.nlargest(10, ['Rank'])\n",
    "display(top_nodes)"
   ]
  },
  {
   "cell_type": "markdown",
   "source": [
    "Lowest 10"
   ],
   "metadata": {
    "collapsed": false,
    "pycharm": {
     "name": "#%% md\n"
    }
   }
  },
  {
   "cell_type": "code",
   "execution_count": 84,
   "outputs": [
    {
     "data": {
      "text/plain": "       Nodes      Rank\n4334   90665  0.000038\n2894   22846  0.000038\n1649   55604  0.000038\n3847  151887  0.000038\n2741   79918  0.000038\n2787   11132  0.000038\n2819    7482  0.000038\n2756    3359  0.000038\n4014    3890  0.000038\n3253    1002  0.000038",
      "text/html": "<div>\n<style scoped>\n    .dataframe tbody tr th:only-of-type {\n        vertical-align: middle;\n    }\n\n    .dataframe tbody tr th {\n        vertical-align: top;\n    }\n\n    .dataframe thead th {\n        text-align: right;\n    }\n</style>\n<table border=\"1\" class=\"dataframe\">\n  <thead>\n    <tr style=\"text-align: right;\">\n      <th></th>\n      <th>Nodes</th>\n      <th>Rank</th>\n    </tr>\n  </thead>\n  <tbody>\n    <tr>\n      <th>4334</th>\n      <td>90665</td>\n      <td>0.000038</td>\n    </tr>\n    <tr>\n      <th>2894</th>\n      <td>22846</td>\n      <td>0.000038</td>\n    </tr>\n    <tr>\n      <th>1649</th>\n      <td>55604</td>\n      <td>0.000038</td>\n    </tr>\n    <tr>\n      <th>3847</th>\n      <td>151887</td>\n      <td>0.000038</td>\n    </tr>\n    <tr>\n      <th>2741</th>\n      <td>79918</td>\n      <td>0.000038</td>\n    </tr>\n    <tr>\n      <th>2787</th>\n      <td>11132</td>\n      <td>0.000038</td>\n    </tr>\n    <tr>\n      <th>2819</th>\n      <td>7482</td>\n      <td>0.000038</td>\n    </tr>\n    <tr>\n      <th>2756</th>\n      <td>3359</td>\n      <td>0.000038</td>\n    </tr>\n    <tr>\n      <th>4014</th>\n      <td>3890</td>\n      <td>0.000038</td>\n    </tr>\n    <tr>\n      <th>3253</th>\n      <td>1002</td>\n      <td>0.000038</td>\n    </tr>\n  </tbody>\n</table>\n</div>"
     },
     "metadata": {},
     "output_type": "display_data"
    }
   ],
   "source": [
    "bottom_nodes = page_ranks_df.nsmallest(10, ['Rank'])\n",
    "display(bottom_nodes)"
   ],
   "metadata": {
    "collapsed": false,
    "pycharm": {
     "name": "#%%\n"
    }
   }
  },
  {
   "cell_type": "markdown",
   "source": [
    "\n",
    "B) 2. Betweenness Centrality(Top 10)"
   ],
   "metadata": {
    "collapsed": false,
    "pycharm": {
     "name": "#%% md\n"
    }
   }
  },
  {
   "cell_type": "code",
   "execution_count": 85,
   "outputs": [
    {
     "data": {
      "text/plain": "   Nodes  Betweenness Centrality\n0   1956                0.057870\n1   2885                0.040278\n2   8452                0.077315\n3   1994                0.043981\n4   4914                0.033333\n5  10482                0.006944\n6   7157                0.012500\n7   3320                0.150463\n8   7514                0.070370\n9    351                0.006944",
      "text/html": "<div>\n<style scoped>\n    .dataframe tbody tr th:only-of-type {\n        vertical-align: middle;\n    }\n\n    .dataframe tbody tr th {\n        vertical-align: top;\n    }\n\n    .dataframe thead th {\n        text-align: right;\n    }\n</style>\n<table border=\"1\" class=\"dataframe\">\n  <thead>\n    <tr style=\"text-align: right;\">\n      <th></th>\n      <th>Nodes</th>\n      <th>Betweenness Centrality</th>\n    </tr>\n  </thead>\n  <tbody>\n    <tr>\n      <th>0</th>\n      <td>1956</td>\n      <td>0.057870</td>\n    </tr>\n    <tr>\n      <th>1</th>\n      <td>2885</td>\n      <td>0.040278</td>\n    </tr>\n    <tr>\n      <th>2</th>\n      <td>8452</td>\n      <td>0.077315</td>\n    </tr>\n    <tr>\n      <th>3</th>\n      <td>1994</td>\n      <td>0.043981</td>\n    </tr>\n    <tr>\n      <th>4</th>\n      <td>4914</td>\n      <td>0.033333</td>\n    </tr>\n    <tr>\n      <th>5</th>\n      <td>10482</td>\n      <td>0.006944</td>\n    </tr>\n    <tr>\n      <th>6</th>\n      <td>7157</td>\n      <td>0.012500</td>\n    </tr>\n    <tr>\n      <th>7</th>\n      <td>3320</td>\n      <td>0.150463</td>\n    </tr>\n    <tr>\n      <th>8</th>\n      <td>7514</td>\n      <td>0.070370</td>\n    </tr>\n    <tr>\n      <th>9</th>\n      <td>351</td>\n      <td>0.006944</td>\n    </tr>\n  </tbody>\n</table>\n</div>"
     },
     "execution_count": 85,
     "metadata": {},
     "output_type": "execute_result"
    }
   ],
   "source": [
    "between_centrality = nx.betweenness_centrality(graph.subgraph(top_nodes['Nodes']))\n",
    "between_centrality_df = pd.DataFrame({'Nodes': between_centrality.keys(), 'Betweenness Centrality': between_centrality.values()})\n",
    "between_centrality_df"
   ],
   "metadata": {
    "collapsed": false,
    "pycharm": {
     "name": "#%%\n"
    }
   }
  },
  {
   "cell_type": "markdown",
   "source": [
    "\n",
    "B) 2. Betweenness Centrality(Bottom 10)"
   ],
   "metadata": {
    "collapsed": false
   }
  },
  {
   "cell_type": "code",
   "execution_count": 86,
   "outputs": [
    {
     "data": {
      "text/plain": "    Nodes  Betweenness Centrality\n0   90665                     0.0\n1    1002                     0.0\n2   79918                     0.0\n3  151887                     0.0\n4    3890                     0.0\n5   55604                     0.0\n6    7482                     0.0\n7   11132                     0.0\n8   22846                     0.0\n9    3359                     0.0",
      "text/html": "<div>\n<style scoped>\n    .dataframe tbody tr th:only-of-type {\n        vertical-align: middle;\n    }\n\n    .dataframe tbody tr th {\n        vertical-align: top;\n    }\n\n    .dataframe thead th {\n        text-align: right;\n    }\n</style>\n<table border=\"1\" class=\"dataframe\">\n  <thead>\n    <tr style=\"text-align: right;\">\n      <th></th>\n      <th>Nodes</th>\n      <th>Betweenness Centrality</th>\n    </tr>\n  </thead>\n  <tbody>\n    <tr>\n      <th>0</th>\n      <td>90665</td>\n      <td>0.0</td>\n    </tr>\n    <tr>\n      <th>1</th>\n      <td>1002</td>\n      <td>0.0</td>\n    </tr>\n    <tr>\n      <th>2</th>\n      <td>79918</td>\n      <td>0.0</td>\n    </tr>\n    <tr>\n      <th>3</th>\n      <td>151887</td>\n      <td>0.0</td>\n    </tr>\n    <tr>\n      <th>4</th>\n      <td>3890</td>\n      <td>0.0</td>\n    </tr>\n    <tr>\n      <th>5</th>\n      <td>55604</td>\n      <td>0.0</td>\n    </tr>\n    <tr>\n      <th>6</th>\n      <td>7482</td>\n      <td>0.0</td>\n    </tr>\n    <tr>\n      <th>7</th>\n      <td>11132</td>\n      <td>0.0</td>\n    </tr>\n    <tr>\n      <th>8</th>\n      <td>22846</td>\n      <td>0.0</td>\n    </tr>\n    <tr>\n      <th>9</th>\n      <td>3359</td>\n      <td>0.0</td>\n    </tr>\n  </tbody>\n</table>\n</div>"
     },
     "execution_count": 86,
     "metadata": {},
     "output_type": "execute_result"
    }
   ],
   "source": [
    "between_centrality = nx.betweenness_centrality(graph.subgraph(bottom_nodes['Nodes']))\n",
    "between_centrality_df = pd.DataFrame({'Nodes': between_centrality.keys(), 'Betweenness Centrality': between_centrality.values()})\n",
    "between_centrality_df"
   ],
   "metadata": {
    "collapsed": false,
    "pycharm": {
     "name": "#%%\n"
    }
   }
  },
  {
   "cell_type": "markdown",
   "source": [
    "B) 3. Closeness Centrality(Top 10)"
   ],
   "metadata": {
    "collapsed": false,
    "pycharm": {
     "name": "#%% md\n"
    }
   }
  },
  {
   "cell_type": "code",
   "execution_count": 87,
   "outputs": [
    {
     "data": {
      "text/plain": "    Nodes  Closeness Centrality\n0   90665              0.750000\n1    1002              0.750000\n2   79918              0.750000\n3  151887              0.692308\n4    3890              0.750000\n5   55604              0.600000\n6    7482              0.642857\n7   11132              0.900000\n8   22846              0.750000\n9    3359              0.642857",
      "text/html": "<div>\n<style scoped>\n    .dataframe tbody tr th:only-of-type {\n        vertical-align: middle;\n    }\n\n    .dataframe tbody tr th {\n        vertical-align: top;\n    }\n\n    .dataframe thead th {\n        text-align: right;\n    }\n</style>\n<table border=\"1\" class=\"dataframe\">\n  <thead>\n    <tr style=\"text-align: right;\">\n      <th></th>\n      <th>Nodes</th>\n      <th>Closeness Centrality</th>\n    </tr>\n  </thead>\n  <tbody>\n    <tr>\n      <th>0</th>\n      <td>90665</td>\n      <td>0.750000</td>\n    </tr>\n    <tr>\n      <th>1</th>\n      <td>1002</td>\n      <td>0.750000</td>\n    </tr>\n    <tr>\n      <th>2</th>\n      <td>79918</td>\n      <td>0.750000</td>\n    </tr>\n    <tr>\n      <th>3</th>\n      <td>151887</td>\n      <td>0.692308</td>\n    </tr>\n    <tr>\n      <th>4</th>\n      <td>3890</td>\n      <td>0.750000</td>\n    </tr>\n    <tr>\n      <th>5</th>\n      <td>55604</td>\n      <td>0.600000</td>\n    </tr>\n    <tr>\n      <th>6</th>\n      <td>7482</td>\n      <td>0.642857</td>\n    </tr>\n    <tr>\n      <th>7</th>\n      <td>11132</td>\n      <td>0.900000</td>\n    </tr>\n    <tr>\n      <th>8</th>\n      <td>22846</td>\n      <td>0.750000</td>\n    </tr>\n    <tr>\n      <th>9</th>\n      <td>3359</td>\n      <td>0.642857</td>\n    </tr>\n  </tbody>\n</table>\n</div>"
     },
     "execution_count": 87,
     "metadata": {},
     "output_type": "execute_result"
    }
   ],
   "source": [
    "closeness_centrality = nx.closeness_centrality(graph.subgraph(top_nodes['Nodes']))\n",
    "closeness_centrality_df = pd.DataFrame({'Nodes': between_centrality.keys(), 'Closeness Centrality': closeness_centrality.values()})\n",
    "closeness_centrality_df"
   ],
   "metadata": {
    "collapsed": false,
    "pycharm": {
     "name": "#%%\n"
    }
   }
  },
  {
   "cell_type": "markdown",
   "source": [
    "B) 3. Closeness Centrality(Bottom 10)"
   ],
   "metadata": {
    "collapsed": false
   }
  },
  {
   "cell_type": "code",
   "execution_count": 88,
   "outputs": [
    {
     "data": {
      "text/plain": "    Nodes  Closeness Centrality\n0   90665                   0.0\n1    1002                   0.0\n2   79918                   0.0\n3  151887                   0.0\n4    3890                   0.0\n5   55604                   0.0\n6    7482                   0.0\n7   11132                   0.0\n8   22846                   0.0\n9    3359                   0.0",
      "text/html": "<div>\n<style scoped>\n    .dataframe tbody tr th:only-of-type {\n        vertical-align: middle;\n    }\n\n    .dataframe tbody tr th {\n        vertical-align: top;\n    }\n\n    .dataframe thead th {\n        text-align: right;\n    }\n</style>\n<table border=\"1\" class=\"dataframe\">\n  <thead>\n    <tr style=\"text-align: right;\">\n      <th></th>\n      <th>Nodes</th>\n      <th>Closeness Centrality</th>\n    </tr>\n  </thead>\n  <tbody>\n    <tr>\n      <th>0</th>\n      <td>90665</td>\n      <td>0.0</td>\n    </tr>\n    <tr>\n      <th>1</th>\n      <td>1002</td>\n      <td>0.0</td>\n    </tr>\n    <tr>\n      <th>2</th>\n      <td>79918</td>\n      <td>0.0</td>\n    </tr>\n    <tr>\n      <th>3</th>\n      <td>151887</td>\n      <td>0.0</td>\n    </tr>\n    <tr>\n      <th>4</th>\n      <td>3890</td>\n      <td>0.0</td>\n    </tr>\n    <tr>\n      <th>5</th>\n      <td>55604</td>\n      <td>0.0</td>\n    </tr>\n    <tr>\n      <th>6</th>\n      <td>7482</td>\n      <td>0.0</td>\n    </tr>\n    <tr>\n      <th>7</th>\n      <td>11132</td>\n      <td>0.0</td>\n    </tr>\n    <tr>\n      <th>8</th>\n      <td>22846</td>\n      <td>0.0</td>\n    </tr>\n    <tr>\n      <th>9</th>\n      <td>3359</td>\n      <td>0.0</td>\n    </tr>\n  </tbody>\n</table>\n</div>"
     },
     "execution_count": 88,
     "metadata": {},
     "output_type": "execute_result"
    }
   ],
   "source": [
    "closeness_centrality = nx.closeness_centrality(graph.subgraph(bottom_nodes['Nodes']))\n",
    "closeness_centrality_df = pd.DataFrame({'Nodes': between_centrality.keys(), 'Closeness Centrality': closeness_centrality.values()})\n",
    "closeness_centrality_df"
   ],
   "metadata": {
    "collapsed": false,
    "pycharm": {
     "name": "#%%\n"
    }
   }
  },
  {
   "cell_type": "markdown",
   "source": [
    "B) 4. Eigenvector centrality(top 10)"
   ],
   "metadata": {
    "collapsed": false,
    "pycharm": {
     "name": "#%% md\n"
    }
   }
  },
  {
   "cell_type": "code",
   "execution_count": 89,
   "outputs": [
    {
     "data": {
      "text/plain": "   Nodes  Eigenvector Centrality\n0   1956                0.343987\n1   2885                0.350634\n2   8452                0.327417\n3   1994                0.282669\n4   4914                0.361089\n5  10482                0.188953\n6   7157                0.241660\n7   3320                0.421317\n8   7514                0.324034\n9    351                0.254226",
      "text/html": "<div>\n<style scoped>\n    .dataframe tbody tr th:only-of-type {\n        vertical-align: middle;\n    }\n\n    .dataframe tbody tr th {\n        vertical-align: top;\n    }\n\n    .dataframe thead th {\n        text-align: right;\n    }\n</style>\n<table border=\"1\" class=\"dataframe\">\n  <thead>\n    <tr style=\"text-align: right;\">\n      <th></th>\n      <th>Nodes</th>\n      <th>Eigenvector Centrality</th>\n    </tr>\n  </thead>\n  <tbody>\n    <tr>\n      <th>0</th>\n      <td>1956</td>\n      <td>0.343987</td>\n    </tr>\n    <tr>\n      <th>1</th>\n      <td>2885</td>\n      <td>0.350634</td>\n    </tr>\n    <tr>\n      <th>2</th>\n      <td>8452</td>\n      <td>0.327417</td>\n    </tr>\n    <tr>\n      <th>3</th>\n      <td>1994</td>\n      <td>0.282669</td>\n    </tr>\n    <tr>\n      <th>4</th>\n      <td>4914</td>\n      <td>0.361089</td>\n    </tr>\n    <tr>\n      <th>5</th>\n      <td>10482</td>\n      <td>0.188953</td>\n    </tr>\n    <tr>\n      <th>6</th>\n      <td>7157</td>\n      <td>0.241660</td>\n    </tr>\n    <tr>\n      <th>7</th>\n      <td>3320</td>\n      <td>0.421317</td>\n    </tr>\n    <tr>\n      <th>8</th>\n      <td>7514</td>\n      <td>0.324034</td>\n    </tr>\n    <tr>\n      <th>9</th>\n      <td>351</td>\n      <td>0.254226</td>\n    </tr>\n  </tbody>\n</table>\n</div>"
     },
     "execution_count": 89,
     "metadata": {},
     "output_type": "execute_result"
    }
   ],
   "source": [
    "eigenvector_centrality = nx.eigenvector_centrality(graph.subgraph(top_nodes['Nodes']))\n",
    "eigenvector_centrality_df = pd.DataFrame({'Nodes': eigenvector_centrality.keys(), 'Eigenvector Centrality': eigenvector_centrality.values()})\n",
    "eigenvector_centrality_df"
   ],
   "metadata": {
    "collapsed": false,
    "pycharm": {
     "name": "#%%\n"
    }
   }
  },
  {
   "cell_type": "markdown",
   "source": [
    "Eigenvector centrality(top 10)"
   ],
   "metadata": {
    "collapsed": false,
    "pycharm": {
     "name": "#%% md\n"
    }
   }
  },
  {
   "cell_type": "code",
   "execution_count": 90,
   "outputs": [
    {
     "data": {
      "text/plain": "    Nodes  Eigenvector Centrality\n0   90665                0.316228\n1    1002                0.316228\n2   79918                0.316228\n3  151887                0.316228\n4    3890                0.316228\n5   55604                0.316228\n6    7482                0.316228\n7   11132                0.316228\n8   22846                0.316228\n9    3359                0.316228",
      "text/html": "<div>\n<style scoped>\n    .dataframe tbody tr th:only-of-type {\n        vertical-align: middle;\n    }\n\n    .dataframe tbody tr th {\n        vertical-align: top;\n    }\n\n    .dataframe thead th {\n        text-align: right;\n    }\n</style>\n<table border=\"1\" class=\"dataframe\">\n  <thead>\n    <tr style=\"text-align: right;\">\n      <th></th>\n      <th>Nodes</th>\n      <th>Eigenvector Centrality</th>\n    </tr>\n  </thead>\n  <tbody>\n    <tr>\n      <th>0</th>\n      <td>90665</td>\n      <td>0.316228</td>\n    </tr>\n    <tr>\n      <th>1</th>\n      <td>1002</td>\n      <td>0.316228</td>\n    </tr>\n    <tr>\n      <th>2</th>\n      <td>79918</td>\n      <td>0.316228</td>\n    </tr>\n    <tr>\n      <th>3</th>\n      <td>151887</td>\n      <td>0.316228</td>\n    </tr>\n    <tr>\n      <th>4</th>\n      <td>3890</td>\n      <td>0.316228</td>\n    </tr>\n    <tr>\n      <th>5</th>\n      <td>55604</td>\n      <td>0.316228</td>\n    </tr>\n    <tr>\n      <th>6</th>\n      <td>7482</td>\n      <td>0.316228</td>\n    </tr>\n    <tr>\n      <th>7</th>\n      <td>11132</td>\n      <td>0.316228</td>\n    </tr>\n    <tr>\n      <th>8</th>\n      <td>22846</td>\n      <td>0.316228</td>\n    </tr>\n    <tr>\n      <th>9</th>\n      <td>3359</td>\n      <td>0.316228</td>\n    </tr>\n  </tbody>\n</table>\n</div>"
     },
     "execution_count": 90,
     "metadata": {},
     "output_type": "execute_result"
    }
   ],
   "source": [
    "eigenvector_centrality = nx.eigenvector_centrality(graph.subgraph(bottom_nodes['Nodes']))\n",
    "eigenvector_centrality_df = pd.DataFrame({'Nodes': eigenvector_centrality.keys(), 'Eigenvector Centrality': eigenvector_centrality.values()})\n",
    "eigenvector_centrality_df"
   ],
   "metadata": {
    "collapsed": false,
    "pycharm": {
     "name": "#%%\n"
    }
   }
  }
 ],
 "metadata": {
  "kernelspec": {
   "display_name": "Python 3",
   "language": "python",
   "name": "python3"
  },
  "language_info": {
   "codemirror_mode": {
    "name": "ipython",
    "version": 3
   },
   "file_extension": ".py",
   "mimetype": "text/x-python",
   "name": "python",
   "nbconvert_exporter": "python",
   "pygments_lexer": "ipython3",
   "version": "3.7.11"
  }
 },
 "nbformat": 4,
 "nbformat_minor": 1
}