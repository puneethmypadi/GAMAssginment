{
 "cells": [
  {
   "cell_type": "markdown",
   "source": [
    "### Node Similarity"
   ],
   "metadata": {
    "collapsed": true,
    "pycharm": {
     "name": "#%% md\n"
    }
   }
  },
  {
   "cell_type": "markdown",
   "source": [
    "Node similarity is an important task in graph analysis,many node similarity approacheshave been proposed in the literature. In this problemyou are asked to compute nodesimilarity using the following approaches for a Drug-Genegraph available\n",
    "https://snap.stanford.edu/biodata/datasets/10002/10002-ChG-Miner.html(click onlinkChG-Miner_miner-chem-gene.tsv.gz) to downloadthe graph and identify the top 10drug-drug pairs i.e. pairs of drugs  that are similar.\n",
    "\n",
    "*About the data*: _ChG-Miner_miner-chem-gene.tsv.gz_ is a drug-target interaction network that contains information on which genes (i.e., proteins encoded by genes) are targeted by drugs that are on the U.S. market.\n"
   ],
   "metadata": {
    "collapsed": false,
    "pycharm": {
     "name": "#%% md\n"
    }
   }
  },
  {
   "cell_type": "code",
   "execution_count": 4,
   "source": [
    "#import statements\n",
    "import pandas as pd\n",
    "import networkx as nx\n",
    "import re\n",
    "import numpy as np;\n",
    "from IPython.core.display import display\n",
    "from matplotlib import pyplot as pplt"
   ],
   "outputs": [],
   "metadata": {
    "collapsed": false,
    "pycharm": {
     "name": "#%%\n"
    }
   }
  },
  {
   "cell_type": "markdown",
   "source": [
    "#### Q1\n",
    "\n",
    "\n",
    "Create the graph"
   ],
   "metadata": {
    "collapsed": false
   }
  },
  {
   "cell_type": "code",
   "execution_count": 5,
   "source": [
    "graph = nx.Graph()"
   ],
   "outputs": [],
   "metadata": {
    "collapsed": false,
    "pycharm": {
     "name": "#%%\n"
    }
   }
  },
  {
   "cell_type": "markdown",
   "source": [
    "Load the data into the graph"
   ],
   "metadata": {
    "collapsed": false,
    "pycharm": {
     "name": "#%% md\n"
    }
   }
  },
  {
   "cell_type": "code",
   "execution_count": 6,
   "source": [
    "file = open('../data/ChG-Miner_miner-chem-gene.tsv')\n",
    "drug_nodes = []\n",
    "file.readline()\n",
    "for line in file.readlines():\n",
    "    vals = re.split(r'\\t', line)\n",
    "    drug_nodes.append(vals[0])\n",
    "    graph.add_edge(vals[0], vals[1])\n",
    "print(graph)\n",
    "similartiy = nx.simrank_similarity(graph)\n",
    "print('calculated')"
   ],
   "outputs": [
    {
     "output_type": "stream",
     "name": "stdout",
     "text": [
      "Graph with 7343 nodes and 15139 edges\n",
      "calculated\n"
     ]
    }
   ],
   "metadata": {
    "collapsed": false,
    "pycharm": {
     "name": "#%%\n"
    }
   }
  },
  {
   "cell_type": "markdown",
   "source": [
    "Print length of the keys of the dictionary"
   ],
   "metadata": {}
  },
  {
   "cell_type": "code",
   "execution_count": 8,
   "source": [
    "print(len(similartiy.keys()))"
   ],
   "outputs": [
    {
     "output_type": "stream",
     "name": "stdout",
     "text": [
      "7343\n"
     ]
    }
   ],
   "metadata": {}
  },
  {
   "cell_type": "markdown",
   "source": [
    "Filter out the dict to only have drug nodes"
   ],
   "metadata": {}
  },
  {
   "cell_type": "code",
   "execution_count": 9,
   "source": [
    "similartiy= dict((key, val) for key, val in similartiy.items() if key.startswith('D') )"
   ],
   "outputs": [],
   "metadata": {}
  },
  {
   "cell_type": "markdown",
   "source": [
    "Filter out the values of the keys to have only drug nodes"
   ],
   "metadata": {}
  },
  {
   "cell_type": "code",
   "execution_count": 20,
   "source": [
    "final_similarity = dict()\n",
    "for key, val in similartiy.items():\n",
    "    for key1, val1 in val.items():\n",
    "        if  key1.startswith('D'):\n",
    "            if final_similarity.get(key) is None:\n",
    "                final_similarity[key]=dict()\n",
    "            final_similarity[key][key1]=val1\n",
    "\n",
    "print(len(final_similarity.keys()))"
   ],
   "outputs": [
    {
     "output_type": "stream",
     "name": "stdout",
     "text": [
      "5017\n"
     ]
    }
   ],
   "metadata": {}
  },
  {
   "cell_type": "code",
   "execution_count": 23,
   "source": [
    "similarity_df = pd.DataFrame.from_dict(final_similarity)"
   ],
   "outputs": [],
   "metadata": {}
  },
  {
   "cell_type": "markdown",
   "source": [
    "print head of similarity_df"
   ],
   "metadata": {}
  },
  {
   "cell_type": "code",
   "execution_count": 24,
   "source": [
    "similarity_df.head()"
   ],
   "outputs": [
    {
     "output_type": "execute_result",
     "data": {
      "text/plain": [
       "          DB00357   DB02721   DB00773   DB07138   DB08136   DB01242   DB01238  \\\n",
       "DB00357  1.000000  0.016823  0.073413  0.002779  0.002011  0.097154  0.049076   \n",
       "DB02721  0.016823  1.000000  0.015868  0.002344  0.001043  0.015462  0.014756   \n",
       "DB00773  0.073413  0.015868  1.000000  0.002837  0.002075  0.060316  0.039948   \n",
       "DB07138  0.002779  0.002344  0.002837  1.000000  0.006213  0.002678  0.002685   \n",
       "DB08136  0.002011  0.001043  0.002075  0.006213  1.000000  0.001807  0.001731   \n",
       "\n",
       "          DB00186   DB00338   DB01151  ...   DB08743   DB08936   DB03185  \\\n",
       "DB00357  0.034902  0.120497  0.063073  ...  0.018923  0.045958  0.019481   \n",
       "DB02721  0.021159  0.017054  0.015415  ...  0.006772  0.014441  0.008653   \n",
       "DB00773  0.028654  0.066077  0.044258  ...  0.016112  0.036828  0.016620   \n",
       "DB07138  0.002325  0.002901  0.002771  ...  0.001880  0.002683  0.001876   \n",
       "DB08136  0.001514  0.002094  0.001776  ...  0.001062  0.001734  0.001170   \n",
       "\n",
       "          DB04113   DB00235   DB04249  DB05679   DB06883  DB08365   DB04793  \n",
       "DB00357  0.012626  0.037976  0.024874      0.0  0.010543      0.0  0.002368  \n",
       "DB02721  0.391621  0.012218  0.010040      0.0  0.005326      0.0  0.001686  \n",
       "DB00773  0.011773  0.031175  0.026332      0.0  0.009734      0.0  0.002477  \n",
       "DB07138  0.003035  0.003968  0.006437      0.0  0.036563      0.0  0.000725  \n",
       "DB08136  0.000890  0.001663  0.001311      0.0  0.011831      0.0  0.000501  \n",
       "\n",
       "[5 rows x 5017 columns]"
      ],
      "text/html": [
       "<div>\n",
       "<style scoped>\n",
       "    .dataframe tbody tr th:only-of-type {\n",
       "        vertical-align: middle;\n",
       "    }\n",
       "\n",
       "    .dataframe tbody tr th {\n",
       "        vertical-align: top;\n",
       "    }\n",
       "\n",
       "    .dataframe thead th {\n",
       "        text-align: right;\n",
       "    }\n",
       "</style>\n",
       "<table border=\"1\" class=\"dataframe\">\n",
       "  <thead>\n",
       "    <tr style=\"text-align: right;\">\n",
       "      <th></th>\n",
       "      <th>DB00357</th>\n",
       "      <th>DB02721</th>\n",
       "      <th>DB00773</th>\n",
       "      <th>DB07138</th>\n",
       "      <th>DB08136</th>\n",
       "      <th>DB01242</th>\n",
       "      <th>DB01238</th>\n",
       "      <th>DB00186</th>\n",
       "      <th>DB00338</th>\n",
       "      <th>DB01151</th>\n",
       "      <th>...</th>\n",
       "      <th>DB08743</th>\n",
       "      <th>DB08936</th>\n",
       "      <th>DB03185</th>\n",
       "      <th>DB04113</th>\n",
       "      <th>DB00235</th>\n",
       "      <th>DB04249</th>\n",
       "      <th>DB05679</th>\n",
       "      <th>DB06883</th>\n",
       "      <th>DB08365</th>\n",
       "      <th>DB04793</th>\n",
       "    </tr>\n",
       "  </thead>\n",
       "  <tbody>\n",
       "    <tr>\n",
       "      <th>DB00357</th>\n",
       "      <td>1.000000</td>\n",
       "      <td>0.016823</td>\n",
       "      <td>0.073413</td>\n",
       "      <td>0.002779</td>\n",
       "      <td>0.002011</td>\n",
       "      <td>0.097154</td>\n",
       "      <td>0.049076</td>\n",
       "      <td>0.034902</td>\n",
       "      <td>0.120497</td>\n",
       "      <td>0.063073</td>\n",
       "      <td>...</td>\n",
       "      <td>0.018923</td>\n",
       "      <td>0.045958</td>\n",
       "      <td>0.019481</td>\n",
       "      <td>0.012626</td>\n",
       "      <td>0.037976</td>\n",
       "      <td>0.024874</td>\n",
       "      <td>0.0</td>\n",
       "      <td>0.010543</td>\n",
       "      <td>0.0</td>\n",
       "      <td>0.002368</td>\n",
       "    </tr>\n",
       "    <tr>\n",
       "      <th>DB02721</th>\n",
       "      <td>0.016823</td>\n",
       "      <td>1.000000</td>\n",
       "      <td>0.015868</td>\n",
       "      <td>0.002344</td>\n",
       "      <td>0.001043</td>\n",
       "      <td>0.015462</td>\n",
       "      <td>0.014756</td>\n",
       "      <td>0.021159</td>\n",
       "      <td>0.017054</td>\n",
       "      <td>0.015415</td>\n",
       "      <td>...</td>\n",
       "      <td>0.006772</td>\n",
       "      <td>0.014441</td>\n",
       "      <td>0.008653</td>\n",
       "      <td>0.391621</td>\n",
       "      <td>0.012218</td>\n",
       "      <td>0.010040</td>\n",
       "      <td>0.0</td>\n",
       "      <td>0.005326</td>\n",
       "      <td>0.0</td>\n",
       "      <td>0.001686</td>\n",
       "    </tr>\n",
       "    <tr>\n",
       "      <th>DB00773</th>\n",
       "      <td>0.073413</td>\n",
       "      <td>0.015868</td>\n",
       "      <td>1.000000</td>\n",
       "      <td>0.002837</td>\n",
       "      <td>0.002075</td>\n",
       "      <td>0.060316</td>\n",
       "      <td>0.039948</td>\n",
       "      <td>0.028654</td>\n",
       "      <td>0.066077</td>\n",
       "      <td>0.044258</td>\n",
       "      <td>...</td>\n",
       "      <td>0.016112</td>\n",
       "      <td>0.036828</td>\n",
       "      <td>0.016620</td>\n",
       "      <td>0.011773</td>\n",
       "      <td>0.031175</td>\n",
       "      <td>0.026332</td>\n",
       "      <td>0.0</td>\n",
       "      <td>0.009734</td>\n",
       "      <td>0.0</td>\n",
       "      <td>0.002477</td>\n",
       "    </tr>\n",
       "    <tr>\n",
       "      <th>DB07138</th>\n",
       "      <td>0.002779</td>\n",
       "      <td>0.002344</td>\n",
       "      <td>0.002837</td>\n",
       "      <td>1.000000</td>\n",
       "      <td>0.006213</td>\n",
       "      <td>0.002678</td>\n",
       "      <td>0.002685</td>\n",
       "      <td>0.002325</td>\n",
       "      <td>0.002901</td>\n",
       "      <td>0.002771</td>\n",
       "      <td>...</td>\n",
       "      <td>0.001880</td>\n",
       "      <td>0.002683</td>\n",
       "      <td>0.001876</td>\n",
       "      <td>0.003035</td>\n",
       "      <td>0.003968</td>\n",
       "      <td>0.006437</td>\n",
       "      <td>0.0</td>\n",
       "      <td>0.036563</td>\n",
       "      <td>0.0</td>\n",
       "      <td>0.000725</td>\n",
       "    </tr>\n",
       "    <tr>\n",
       "      <th>DB08136</th>\n",
       "      <td>0.002011</td>\n",
       "      <td>0.001043</td>\n",
       "      <td>0.002075</td>\n",
       "      <td>0.006213</td>\n",
       "      <td>1.000000</td>\n",
       "      <td>0.001807</td>\n",
       "      <td>0.001731</td>\n",
       "      <td>0.001514</td>\n",
       "      <td>0.002094</td>\n",
       "      <td>0.001776</td>\n",
       "      <td>...</td>\n",
       "      <td>0.001062</td>\n",
       "      <td>0.001734</td>\n",
       "      <td>0.001170</td>\n",
       "      <td>0.000890</td>\n",
       "      <td>0.001663</td>\n",
       "      <td>0.001311</td>\n",
       "      <td>0.0</td>\n",
       "      <td>0.011831</td>\n",
       "      <td>0.0</td>\n",
       "      <td>0.000501</td>\n",
       "    </tr>\n",
       "  </tbody>\n",
       "</table>\n",
       "<p>5 rows × 5017 columns</p>\n",
       "</div>"
      ]
     },
     "metadata": {},
     "execution_count": 24
    }
   ],
   "metadata": {}
  },
  {
   "cell_type": "code",
   "execution_count": 31,
   "source": [
    "def find_n_largest_nodes(dataframe, n):\n",
    "    node1 = []\n",
    "    node2 = []\n",
    "    similarity = []\n",
    "    cols = dataframe.columns\n",
    "    for idx, val in enumerate(cols):\n",
    "        for second_index in cols[idx+1:]:\n",
    "            similarity.append(dataframe[val][second_index])\n",
    "            node1.append(val)\n",
    "            node2.append(second_index)\n",
    "\n",
    "    return pd.DataFrame({'Node1': node1, 'Node2': node2, 'Similarity':similarity})\n",
    "df = find_n_largest_nodes(similarity_df, 10)\n",
    "display(df.nlargest(10, 'Similarity'))\n",
    "display(df.nsmallest(10, 'Similarity'))"
   ],
   "outputs": [
    {
     "output_type": "display_data",
     "data": {
      "text/plain": [
       "         Node1    Node2  Similarity\n",
       "15055  DB07138  DB08352         0.9\n",
       "15112  DB07138  DB08424         0.9\n",
       "15147  DB07138  DB08095         0.9\n",
       "15579  DB07138  DB08097         0.9\n",
       "15639  DB07138  DB01807         0.9\n",
       "16211  DB07138  DB07829         0.9\n",
       "16590  DB07138  DB08423         0.9\n",
       "16789  DB07138  DB01948         0.9\n",
       "16810  DB07138  DB07607         0.9\n",
       "17161  DB07138  DB04632         0.9"
      ],
      "text/html": [
       "<div>\n",
       "<style scoped>\n",
       "    .dataframe tbody tr th:only-of-type {\n",
       "        vertical-align: middle;\n",
       "    }\n",
       "\n",
       "    .dataframe tbody tr th {\n",
       "        vertical-align: top;\n",
       "    }\n",
       "\n",
       "    .dataframe thead th {\n",
       "        text-align: right;\n",
       "    }\n",
       "</style>\n",
       "<table border=\"1\" class=\"dataframe\">\n",
       "  <thead>\n",
       "    <tr style=\"text-align: right;\">\n",
       "      <th></th>\n",
       "      <th>Node1</th>\n",
       "      <th>Node2</th>\n",
       "      <th>Similarity</th>\n",
       "    </tr>\n",
       "  </thead>\n",
       "  <tbody>\n",
       "    <tr>\n",
       "      <th>15055</th>\n",
       "      <td>DB07138</td>\n",
       "      <td>DB08352</td>\n",
       "      <td>0.9</td>\n",
       "    </tr>\n",
       "    <tr>\n",
       "      <th>15112</th>\n",
       "      <td>DB07138</td>\n",
       "      <td>DB08424</td>\n",
       "      <td>0.9</td>\n",
       "    </tr>\n",
       "    <tr>\n",
       "      <th>15147</th>\n",
       "      <td>DB07138</td>\n",
       "      <td>DB08095</td>\n",
       "      <td>0.9</td>\n",
       "    </tr>\n",
       "    <tr>\n",
       "      <th>15579</th>\n",
       "      <td>DB07138</td>\n",
       "      <td>DB08097</td>\n",
       "      <td>0.9</td>\n",
       "    </tr>\n",
       "    <tr>\n",
       "      <th>15639</th>\n",
       "      <td>DB07138</td>\n",
       "      <td>DB01807</td>\n",
       "      <td>0.9</td>\n",
       "    </tr>\n",
       "    <tr>\n",
       "      <th>16211</th>\n",
       "      <td>DB07138</td>\n",
       "      <td>DB07829</td>\n",
       "      <td>0.9</td>\n",
       "    </tr>\n",
       "    <tr>\n",
       "      <th>16590</th>\n",
       "      <td>DB07138</td>\n",
       "      <td>DB08423</td>\n",
       "      <td>0.9</td>\n",
       "    </tr>\n",
       "    <tr>\n",
       "      <th>16789</th>\n",
       "      <td>DB07138</td>\n",
       "      <td>DB01948</td>\n",
       "      <td>0.9</td>\n",
       "    </tr>\n",
       "    <tr>\n",
       "      <th>16810</th>\n",
       "      <td>DB07138</td>\n",
       "      <td>DB07607</td>\n",
       "      <td>0.9</td>\n",
       "    </tr>\n",
       "    <tr>\n",
       "      <th>17161</th>\n",
       "      <td>DB07138</td>\n",
       "      <td>DB04632</td>\n",
       "      <td>0.9</td>\n",
       "    </tr>\n",
       "  </tbody>\n",
       "</table>\n",
       "</div>"
      ]
     },
     "metadata": {}
    },
    {
     "output_type": "display_data",
     "data": {
      "text/plain": [
       "       Node1    Node2  Similarity\n",
       "34   DB00357  DB04058         0.0\n",
       "100  DB00357  DB07034         0.0\n",
       "101  DB00357  DB04389         0.0\n",
       "129  DB00357  DB07494         0.0\n",
       "131  DB00357  DB07020         0.0\n",
       "136  DB00357  DB05096         0.0\n",
       "156  DB00357  DB07374         0.0\n",
       "217  DB00357  DB02494         0.0\n",
       "234  DB00357  DB04234         0.0\n",
       "240  DB00357  DB07344         0.0"
      ],
      "text/html": [
       "<div>\n",
       "<style scoped>\n",
       "    .dataframe tbody tr th:only-of-type {\n",
       "        vertical-align: middle;\n",
       "    }\n",
       "\n",
       "    .dataframe tbody tr th {\n",
       "        vertical-align: top;\n",
       "    }\n",
       "\n",
       "    .dataframe thead th {\n",
       "        text-align: right;\n",
       "    }\n",
       "</style>\n",
       "<table border=\"1\" class=\"dataframe\">\n",
       "  <thead>\n",
       "    <tr style=\"text-align: right;\">\n",
       "      <th></th>\n",
       "      <th>Node1</th>\n",
       "      <th>Node2</th>\n",
       "      <th>Similarity</th>\n",
       "    </tr>\n",
       "  </thead>\n",
       "  <tbody>\n",
       "    <tr>\n",
       "      <th>34</th>\n",
       "      <td>DB00357</td>\n",
       "      <td>DB04058</td>\n",
       "      <td>0.0</td>\n",
       "    </tr>\n",
       "    <tr>\n",
       "      <th>100</th>\n",
       "      <td>DB00357</td>\n",
       "      <td>DB07034</td>\n",
       "      <td>0.0</td>\n",
       "    </tr>\n",
       "    <tr>\n",
       "      <th>101</th>\n",
       "      <td>DB00357</td>\n",
       "      <td>DB04389</td>\n",
       "      <td>0.0</td>\n",
       "    </tr>\n",
       "    <tr>\n",
       "      <th>129</th>\n",
       "      <td>DB00357</td>\n",
       "      <td>DB07494</td>\n",
       "      <td>0.0</td>\n",
       "    </tr>\n",
       "    <tr>\n",
       "      <th>131</th>\n",
       "      <td>DB00357</td>\n",
       "      <td>DB07020</td>\n",
       "      <td>0.0</td>\n",
       "    </tr>\n",
       "    <tr>\n",
       "      <th>136</th>\n",
       "      <td>DB00357</td>\n",
       "      <td>DB05096</td>\n",
       "      <td>0.0</td>\n",
       "    </tr>\n",
       "    <tr>\n",
       "      <th>156</th>\n",
       "      <td>DB00357</td>\n",
       "      <td>DB07374</td>\n",
       "      <td>0.0</td>\n",
       "    </tr>\n",
       "    <tr>\n",
       "      <th>217</th>\n",
       "      <td>DB00357</td>\n",
       "      <td>DB02494</td>\n",
       "      <td>0.0</td>\n",
       "    </tr>\n",
       "    <tr>\n",
       "      <th>234</th>\n",
       "      <td>DB00357</td>\n",
       "      <td>DB04234</td>\n",
       "      <td>0.0</td>\n",
       "    </tr>\n",
       "    <tr>\n",
       "      <th>240</th>\n",
       "      <td>DB00357</td>\n",
       "      <td>DB07344</td>\n",
       "      <td>0.0</td>\n",
       "    </tr>\n",
       "  </tbody>\n",
       "</table>\n",
       "</div>"
      ]
     },
     "metadata": {}
    }
   ],
   "metadata": {}
  },
  {
   "cell_type": "markdown",
   "source": [
    "Jaccard Coefficient"
   ],
   "metadata": {}
  },
  {
   "cell_type": "code",
   "execution_count": 48,
   "source": [
    "jacc_coeffs =nx.jaccard_coefficient(graph)\n",
    "jaccard = pd.DataFrame(jacc_coeffs, columns = ['Node1','Node2','Jaccard Coefficient'])\n",
    "jaccard.head()"
   ],
   "outputs": [
    {
     "output_type": "execute_result",
     "data": {
      "text/plain": [
       "      Node1     Node2  Jaccard Coefficient\n",
       "0  P29508\\n  P10114\\n                  0.0\n",
       "1  P29508\\n  P17252\\n                  0.0\n",
       "2  P29508\\n  P49286\\n                  0.0\n",
       "3  P29508\\n  Q14627\\n                  0.0\n",
       "4  P29508\\n   DB04322                  0.0"
      ],
      "text/html": [
       "<div>\n",
       "<style scoped>\n",
       "    .dataframe tbody tr th:only-of-type {\n",
       "        vertical-align: middle;\n",
       "    }\n",
       "\n",
       "    .dataframe tbody tr th {\n",
       "        vertical-align: top;\n",
       "    }\n",
       "\n",
       "    .dataframe thead th {\n",
       "        text-align: right;\n",
       "    }\n",
       "</style>\n",
       "<table border=\"1\" class=\"dataframe\">\n",
       "  <thead>\n",
       "    <tr style=\"text-align: right;\">\n",
       "      <th></th>\n",
       "      <th>Node1</th>\n",
       "      <th>Node2</th>\n",
       "      <th>Jaccard Coefficient</th>\n",
       "    </tr>\n",
       "  </thead>\n",
       "  <tbody>\n",
       "    <tr>\n",
       "      <th>0</th>\n",
       "      <td>P29508\\n</td>\n",
       "      <td>P10114\\n</td>\n",
       "      <td>0.0</td>\n",
       "    </tr>\n",
       "    <tr>\n",
       "      <th>1</th>\n",
       "      <td>P29508\\n</td>\n",
       "      <td>P17252\\n</td>\n",
       "      <td>0.0</td>\n",
       "    </tr>\n",
       "    <tr>\n",
       "      <th>2</th>\n",
       "      <td>P29508\\n</td>\n",
       "      <td>P49286\\n</td>\n",
       "      <td>0.0</td>\n",
       "    </tr>\n",
       "    <tr>\n",
       "      <th>3</th>\n",
       "      <td>P29508\\n</td>\n",
       "      <td>Q14627\\n</td>\n",
       "      <td>0.0</td>\n",
       "    </tr>\n",
       "    <tr>\n",
       "      <th>4</th>\n",
       "      <td>P29508\\n</td>\n",
       "      <td>DB04322</td>\n",
       "      <td>0.0</td>\n",
       "    </tr>\n",
       "  </tbody>\n",
       "</table>\n",
       "</div>"
      ]
     },
     "metadata": {},
     "execution_count": 48
    }
   ],
   "metadata": {}
  },
  {
   "cell_type": "markdown",
   "source": [
    "Remove gene nodes"
   ],
   "metadata": {}
  },
  {
   "cell_type": "code",
   "execution_count": 49,
   "source": [
    "first = jaccard['Node1'].astype(str)\n",
    "second = jaccard['Node2'].astype(str)\n",
    "jaccard = jaccard[(first.str.startswith('D') & second.str.startswith('D'))]\n",
    "jaccard.nlargest(10,'Jaccard Coefficient')"
   ],
   "outputs": [
    {
     "output_type": "execute_result",
     "data": {
      "text/plain": [
       "         Node1    Node2  Jaccard Coefficient\n",
       "31220  DB04322  DB02358                  1.0\n",
       "38525  DB03130  DB08179                  1.0\n",
       "43940  DB03130  DB03330                  1.0\n",
       "44994  DB02281  DB02933                  1.0\n",
       "49525  DB02281  DB02282                  1.0\n",
       "51324  DB02281  DB02158                  1.0\n",
       "52224  DB08010  DB08021                  1.0\n",
       "54530  DB08010  DB08026                  1.0\n",
       "54606  DB08010  DB08015                  1.0\n",
       "54685  DB08010  DB08023                  1.0"
      ],
      "text/html": [
       "<div>\n",
       "<style scoped>\n",
       "    .dataframe tbody tr th:only-of-type {\n",
       "        vertical-align: middle;\n",
       "    }\n",
       "\n",
       "    .dataframe tbody tr th {\n",
       "        vertical-align: top;\n",
       "    }\n",
       "\n",
       "    .dataframe thead th {\n",
       "        text-align: right;\n",
       "    }\n",
       "</style>\n",
       "<table border=\"1\" class=\"dataframe\">\n",
       "  <thead>\n",
       "    <tr style=\"text-align: right;\">\n",
       "      <th></th>\n",
       "      <th>Node1</th>\n",
       "      <th>Node2</th>\n",
       "      <th>Jaccard Coefficient</th>\n",
       "    </tr>\n",
       "  </thead>\n",
       "  <tbody>\n",
       "    <tr>\n",
       "      <th>31220</th>\n",
       "      <td>DB04322</td>\n",
       "      <td>DB02358</td>\n",
       "      <td>1.0</td>\n",
       "    </tr>\n",
       "    <tr>\n",
       "      <th>38525</th>\n",
       "      <td>DB03130</td>\n",
       "      <td>DB08179</td>\n",
       "      <td>1.0</td>\n",
       "    </tr>\n",
       "    <tr>\n",
       "      <th>43940</th>\n",
       "      <td>DB03130</td>\n",
       "      <td>DB03330</td>\n",
       "      <td>1.0</td>\n",
       "    </tr>\n",
       "    <tr>\n",
       "      <th>44994</th>\n",
       "      <td>DB02281</td>\n",
       "      <td>DB02933</td>\n",
       "      <td>1.0</td>\n",
       "    </tr>\n",
       "    <tr>\n",
       "      <th>49525</th>\n",
       "      <td>DB02281</td>\n",
       "      <td>DB02282</td>\n",
       "      <td>1.0</td>\n",
       "    </tr>\n",
       "    <tr>\n",
       "      <th>51324</th>\n",
       "      <td>DB02281</td>\n",
       "      <td>DB02158</td>\n",
       "      <td>1.0</td>\n",
       "    </tr>\n",
       "    <tr>\n",
       "      <th>52224</th>\n",
       "      <td>DB08010</td>\n",
       "      <td>DB08021</td>\n",
       "      <td>1.0</td>\n",
       "    </tr>\n",
       "    <tr>\n",
       "      <th>54530</th>\n",
       "      <td>DB08010</td>\n",
       "      <td>DB08026</td>\n",
       "      <td>1.0</td>\n",
       "    </tr>\n",
       "    <tr>\n",
       "      <th>54606</th>\n",
       "      <td>DB08010</td>\n",
       "      <td>DB08015</td>\n",
       "      <td>1.0</td>\n",
       "    </tr>\n",
       "    <tr>\n",
       "      <th>54685</th>\n",
       "      <td>DB08010</td>\n",
       "      <td>DB08023</td>\n",
       "      <td>1.0</td>\n",
       "    </tr>\n",
       "  </tbody>\n",
       "</table>\n",
       "</div>"
      ]
     },
     "metadata": {},
     "execution_count": 49
    }
   ],
   "metadata": {}
  }
 ],
 "metadata": {
  "kernelspec": {
   "name": "python3",
   "display_name": "Python 3.7.11 64-bit ('GAMAssignment': conda)"
  },
  "language_info": {
   "name": "python",
   "version": "3.7.11",
   "mimetype": "text/x-python",
   "codemirror_mode": {
    "name": "ipython",
    "version": 3
   },
   "pygments_lexer": "ipython3",
   "nbconvert_exporter": "python",
   "file_extension": ".py"
  },
  "interpreter": {
   "hash": "64064bdd6b40ad03394991de84664b9b02f49755b0f4b87c8eb6e8cbf79e3c09"
  }
 },
 "nbformat": 4,
 "nbformat_minor": 2
}